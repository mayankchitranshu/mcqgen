{
 "cells": [
  {
   "cell_type": "code",
   "execution_count": 1,
   "metadata": {},
   "outputs": [],
   "source": [
    "import os\n",
    "import json\n",
    "import pandas as pd\n",
    "import traceback"
   ]
  },
  {
   "cell_type": "code",
   "execution_count": 2,
   "metadata": {},
   "outputs": [],
   "source": [
    "from langchain.chat_models import ChatOpenAI"
   ]
  },
  {
   "cell_type": "code",
   "execution_count": 7,
   "metadata": {},
   "outputs": [],
   "source": [
    "KEY=os.getenv(\"OPEN_API_KEY\")"
   ]
  },
  {
   "cell_type": "code",
   "execution_count": 4,
   "metadata": {},
   "outputs": [
    {
     "data": {
      "text/plain": [
       "True"
      ]
     },
     "execution_count": 4,
     "metadata": {},
     "output_type": "execute_result"
    }
   ],
   "source": [
    "from dotenv import load_dotenv\n",
    "load_dotenv()"
   ]
  },
  {
   "cell_type": "code",
   "execution_count": 20,
   "metadata": {},
   "outputs": [
    {
     "name": "stdout",
     "output_type": "stream",
     "text": [
      "sk-proj-WIZT56mbAbTnjlscJAYMT3BlbkFJaoT4i7TmomfV6e1gROzg\n"
     ]
    }
   ],
   "source": [
    "print(KEY)"
   ]
  },
  {
   "cell_type": "code",
   "execution_count": 24,
   "metadata": {},
   "outputs": [],
   "source": [
    "llm = ChatOpenAI(\n",
    "    model=\"gpt-3.5-turbo\",\n",
    "    temperature=0.5,\n",
    "    openai_api_key=KEY\n",
    ")\n"
   ]
  },
  {
   "cell_type": "code",
   "execution_count": 25,
   "metadata": {},
   "outputs": [
    {
     "data": {
      "text/plain": [
       "ChatOpenAI(client=<openai.resources.chat.completions.Completions object at 0x0000023647D2AF10>, async_client=<openai.resources.chat.completions.AsyncCompletions object at 0x0000023647D468D0>, temperature=0.5, openai_api_key='sk-proj-WIZT56mbAbTnjlscJAYMT3BlbkFJaoT4i7TmomfV6e1gROzg', openai_proxy='')"
      ]
     },
     "execution_count": 25,
     "metadata": {},
     "output_type": "execute_result"
    }
   ],
   "source": [
    "llm"
   ]
  },
  {
   "cell_type": "code",
   "execution_count": 26,
   "metadata": {},
   "outputs": [],
   "source": [
    "from langchain.llms import OpenAI"
   ]
  },
  {
   "cell_type": "code",
   "execution_count": 27,
   "metadata": {},
   "outputs": [],
   "source": [
    "from langchain.prompts import PromptTemplate"
   ]
  },
  {
   "cell_type": "code",
   "execution_count": 28,
   "metadata": {},
   "outputs": [],
   "source": [
    "from langchain.chains import LLMChain"
   ]
  },
  {
   "cell_type": "code",
   "execution_count": 29,
   "metadata": {},
   "outputs": [],
   "source": [
    "from langchain.chains import SequentialChain"
   ]
  },
  {
   "cell_type": "code",
   "execution_count": 30,
   "metadata": {},
   "outputs": [],
   "source": [
    "from langchain.callbacks import get_openai_callback"
   ]
  },
  {
   "cell_type": "code",
   "execution_count": 31,
   "metadata": {},
   "outputs": [],
   "source": [
    "import PyPDF2"
   ]
  },
  {
   "cell_type": "code",
   "execution_count": 32,
   "metadata": {},
   "outputs": [],
   "source": [
    "RESPONSE_JSON = {\n",
    "    \"1\": {\n",
    "        \"mcq\": \"multiple choice question\",\n",
    "        \"options\": {\n",
    "            \"a\": \"choice here\",\n",
    "            \"b\": \"choice here\",\n",
    "            \"c\": \"choice here\",\n",
    "            \"d\": \"choice here\",\n",
    "        },\n",
    "        \"correct\": \"correct answer\",\n",
    "    },\n",
    "    \"2\": {\n",
    "        \"mcq\": \"multiple choice question\",\n",
    "        \"options\": {\n",
    "            \"a\": \"choice here\",\n",
    "            \"b\": \"choice here\",\n",
    "            \"c\": \"choice here\",\n",
    "            \"d\": \"choice here\",\n",
    "        },\n",
    "        \"correct\": \"correct answer\",\n",
    "    },\n",
    "    \"3\": {\n",
    "        \"mcq\": \"multiple choice question\",\n",
    "        \"options\": {\n",
    "            \"a\": \"choice here\",\n",
    "            \"b\": \"choice here\",\n",
    "            \"c\": \"choice here\",\n",
    "            \"d\": \"choice here\",\n",
    "        },\n",
    "        \"correct\": \"correct answer\",\n",
    "    },\n",
    "}"
   ]
  },
  {
   "cell_type": "code",
   "execution_count": 34,
   "metadata": {},
   "outputs": [],
   "source": [
    "TEMPLATE=\"\"\"\n",
    "Text:{text}\n",
    "You are an expert MCQ maker. Given the above text, it is your job to \\\n",
    "create a quiz  of {number} multiple choice questions for {subject} students in {tone} tone. \n",
    "Make sure the questions are not repeated and check all the questions to be conforming the text as well.\n",
    "Make sure to format your response like  RESPONSE_JSON below  and use it as a guide. \\\n",
    "Ensure to make {number} MCQs\n",
    "### RESPONSE_JSON\n",
    "{response_json}\n",
    "\n",
    "\"\"\""
   ]
  },
  {
   "cell_type": "code",
   "execution_count": null,
   "metadata": {},
   "outputs": [],
   "source": []
  },
  {
   "cell_type": "code",
   "execution_count": 35,
   "metadata": {},
   "outputs": [],
   "source": [
    "quiz_generation_prompt=PromptTemplate(\n",
    "    input_variables=[\"text\",\"number\",\"subject\",\"tone\",\"response_json\"],\n",
    "    template=TEMPLATE\n",
    ")"
   ]
  },
  {
   "cell_type": "code",
   "execution_count": 36,
   "metadata": {},
   "outputs": [],
   "source": [
    "quiz_chain=LLMChain(llm=llm,prompt=quiz_generation_prompt,output_key=\"quiz\",verbose=True)"
   ]
  },
  {
   "cell_type": "code",
   "execution_count": 37,
   "metadata": {},
   "outputs": [],
   "source": [
    "TEMPLATE2=\"\"\"\n",
    "You are an expert english grammarian and writer. Given a Multiple Choice Quiz for {subject} students.\\\n",
    "You need to evaluate the complexity of the question and give a complete analysis of the quiz. Only use at max 50 words for complexity analysis. \n",
    "if the quiz is not at per with the cognitive and analytical abilities of the students,\\\n",
    "update the quiz questions which needs to be changed and change the tone such that it perfectly fits the student abilities\n",
    "Quiz_MCQs:\n",
    "{quiz}\n",
    "\n",
    "Check from an expert English Writer of the above quiz:\n",
    "\"\"\""
   ]
  },
  {
   "cell_type": "code",
   "execution_count": 38,
   "metadata": {},
   "outputs": [],
   "source": [
    "quiz_evaluation_prompt=PromptTemplate(input_variables=[\"subject\",\"quiz\"],template=TEMPLATE)"
   ]
  },
  {
   "cell_type": "code",
   "execution_count": 39,
   "metadata": {},
   "outputs": [],
   "source": [
    "review_chain=LLMChain(llm=llm,prompt=quiz_evaluation_prompt,output_key=\"review\",verbose=True)"
   ]
  },
  {
   "cell_type": "code",
   "execution_count": 40,
   "metadata": {},
   "outputs": [],
   "source": [
    "generate_evaluate_chain=SequentialChain(chains=[quiz_chain,review_chain],input_variables=[\"text\", \"number\", \"subject\", \"tone\", \"response_json\"],\n",
    "                                        output_variables=[\"quiz\",\"review\"],verbose=True,)"
   ]
  },
  {
   "cell_type": "code",
   "execution_count": 50,
   "metadata": {},
   "outputs": [],
   "source": [
    "file_path=r\"C:\\Users\\Lenovo\\Desktop\\interviewQuestion\\mcqgen\\data.txt\""
   ]
  },
  {
   "cell_type": "code",
   "execution_count": 51,
   "metadata": {},
   "outputs": [
    {
     "data": {
      "text/plain": [
       "'C:\\\\Users\\\\Lenovo\\\\Desktop\\\\interviewQuestion\\\\mcqgen\\\\data.txt'"
      ]
     },
     "execution_count": 51,
     "metadata": {},
     "output_type": "execute_result"
    }
   ],
   "source": [
    "file_path"
   ]
  },
  {
   "cell_type": "code",
   "execution_count": 52,
   "metadata": {},
   "outputs": [],
   "source": [
    "with open(file_path,'r') as file:\n",
    "    TEXT=file.read()"
   ]
  },
  {
   "cell_type": "code",
   "execution_count": 53,
   "metadata": {},
   "outputs": [
    {
     "name": "stdout",
     "output_type": "stream",
     "text": [
      "ndian music ranges over various traditions and regional styles. Classical music encompasses two genres and their various folk offshoots: the northern Hindustani and the southern Carnatic schools.[432] Regionalised popular forms include filmi and folk music; the syncretic tradition of the bauls is a well-known form of the latter. Indian dance also features diverse folk and classical forms. Among the better-known folk dances are: bhangra of Punjab, bihu of Assam, Jhumair and chhau of Jharkhand, Odisha and West Bengal, garba and dandiya of Gujarat, ghoomar of Rajasthan, and lavani of Maharashtra. Eight dance forms, many with narrative forms and mythological elements, have been accorded classical dance status by India's National Academy of Music, Dance, and Drama. These are: bharatanatyam of the state of Tamil Nadu, kathak of Uttar Pradesh, kathakali and mohiniyattam of Kerala, kuchipudi of Andhra Pradesh, manipuri of Manipur, odissi of Odisha, and the sattriya of Assam.[433]\n",
      "\n",
      "Theatre in India melds music, dance, and improvised or written dialogue.[434] Often based on Hindu mythology, but also borrowing from medieval romances or social and political events, Indian theatre includes: the bhavai of Gujarat, the jatra of West Bengal, the nautanki and ramlila of North India, tamasha of Maharashtra, burrakatha of Andhra Pradesh and Telangana, terukkuttu of Tamil Nadu, and the yakshagana of Karnataka.[435] India has a theatre training institute the National School of Drama (NSD) that is situated at New Delhi. It is an autonomous organisation under the Ministry of culture, Government of India.[436] The Indian film industry produces the world's most-watched cinema.[437] Established regional cinematic traditions exist in the Assamese, Bengali, Bhojpuri, Hindi, Kannada, Malayalam, Punjabi, Gujarati, Marathi, Odia, Tamil, and Telugu languages.[438] The Hindi language film industry (Bollywood) is the largest sector representing 43% of box office revenue, followed by the South Indian Telugu and Tamil film industries which represent 36% combined.[439]\n",
      "\n",
      "Television broadcasting began in India in 1959 as a state-run medium of communication and expanded slowly for more than two decades.[440][441] The state monopoly on television broadcast ended in the 1990s. Since then, satellite channels have increasingly shaped the popular culture of Indian society.[442] Today, television is the most penetrative media in India; industry estimates indicate that as of 2012 there are over 554 million TV consumers, 462 million with satellite or cable connections compared to other forms of mass media such as the press (350 million), radio (156 million) or internet (37 million).[443]\n",
      "\n",
      "Society\n",
      "\n",
      "Muslims offer namaz at a mosque in Srinagar, Jammu and Kashmir.\n",
      "Traditional Indian society is sometimes defined by social hierarchy. The Indian caste system embodies much of the social stratification and many of the social restrictions found on the Indian subcontinent. Social classes are defined by thousands of endogamous hereditary groups, often termed as jātis, or \"castes\".[444] India abolished untouchability in 1950 with the adoption of the constitution and has since enacted other anti-discriminatory laws and social welfare initiatives.\n",
      "\n",
      "Family values are important in the Indian tradition, and multi-generational patrilineal joint families have been the norm in India, though nuclear families are becoming common in urban areas.[445] An overwhelming majority of Indians, with their consent, have their marriages arranged by their parents or other family elders.[446] Marriage is thought to be for life,[446] and the divorce rate is extremely low,[447] with less than one in a thousand marriages ending in divorce.[448] Child marriages are common, especially in rural areas; many women wed before reaching 18, which is their legal marriageable age.[449] Female infanticide in India, and lately female foeticide, have created skewed gender ratios; the number of missing women in the country quadrupled from 15 million to 63 million in the 50-year period ending in 2014, faster than the population growth during the same period, and constituting 20 percent of India's female electorate.[450] According to an Indian government study, an additional 21 million girls are unwanted and do not receive adequate care.[451] Despite a government ban on sex-selective foeticide, the practice remains commonplace in India, the result of a preference for boys in a patriarchal society.[452] The payment of dowry, although illegal, remains widespread across class lines.[453] Deaths resulting from dowry, mostly from bride burning, are on the rise, despite stringent anti-dowry laws.[454]\n",
      "\n",
      "Many Indian festivals are religious in origin. The best known include Diwali, Ganesh Chaturthi, Thai Pongal, Holi, Durga Puja, Eid ul-Fitr, Bakr-Id, Christmas, and Vaisakhi.[455][456]\n",
      "\n",
      "Education\n",
      "Main articles: Education in India, Literacy in India, and History of education in the Indian subcontinent\n",
      "\n",
      "Children awaiting school lunch in Rayka (also Raika), a village in rural Gujarat. The salutation Jai Bhim written on the blackboard honours the jurist, social reformer, and Dalit leader B. R. Ambedkar.\n",
      "In the 2011 census, about 73% of the population was literate, with 81% for men and 65% for women. This compares to 1981 when the respective rates were 41%, 53% and 29%. In 1951 the rates were 18%, 27% and 9%. In 1921 the rates 7%, 12% and 2%. In 1891 they were 5%, 9% and 1%,[457][458] According to Latika Chaudhary, in 1911 there were under three primary schools for every ten villages. Statistically, more caste and religious diversity reduced private spending. Primary schools taught literacy, so local diversity limited its growth.[459]\n",
      "\n",
      "The education system of India is the world's second-largest.[460] India has over 900 universities, 40,000 colleges[461] and 1.5 million schools.[462] In India's higher education system, a significant number of seats are reserved under affirmative action policies for the historically disadvantaged. In recent decades India's improved education system is often cited as one of the main contributors to its economic development.[463][464]\n",
      "\n",
      "Clothing\n",
      "Main article: Clothing in India\n",
      "\n",
      "Women in sari at an adult literacy class in Tamil Nadu\n",
      "\n",
      "A man in dhoti and wearing a woollen shawl, in Varanasi\n",
      "From ancient times until the advent of the modern, the most widely worn traditional dress in India was draped.[465] For women it took the form of a sari, a single piece of cloth many yards long.[465] The sari was traditionally wrapped around the lower body and the shoulder.[465] In its modern form, it is combined with an underskirt, or Indian petticoat, and tucked in the waist band for more secure fastening. It is also commonly worn with an Indian blouse, or choli, which serves as the primary upper-body garment, the sari's end—passing over the shoulder—serving to cover the midriff and obscure the upper body's contours.[465] For men, a similar but shorter length of cloth, the dhoti, has served as a lower-body garment.[466]\n",
      "\n",
      "\n",
      "Women (from left to right) in churidars and kameez (with back to the camera), jeans and sweater, and pink shalwar kameez\n",
      "The use of stitched clothes became widespread after Muslim rule was established at first by the Delhi sultanate (c. 1300 CE) and then continued by the Mughal Empire (c. 1525 CE).[467] Among the garments introduced during this time and still commonly worn are: the shalwars and pyjamas, both styles of trousers, and the tunics kurta and kameez.[467] In southern India, the traditional draped garments were to see much longer continuous use.[467]\n",
      "\n",
      "Shalwars are atypically wide at the waist but narrow to a cuffed bottom. They are held up by a drawstring, which causes them to become pleated around the waist.[468] The pants can be wide and baggy, or they can be cut quite narrow, on the bias, in which case they are called churidars. When they are ordinarily wide at the waist and their bottoms are hemmed but not cuffed, they are called pyjamas. The kameez is a long shirt or tunic,[469] its side seams left open below the waist-line.[470] The kurta is traditionally collarless and made of cotton or silk; it is worn plain or with embroidered decoration, such as chikan; and typically falls to either just above or just below the wearer's knees.[471]\n",
      "\n",
      "In the last 50 years, fashions have changed a great deal in India. Increasingly, in urban northern India, the sari is no longer the apparel of everyday wear, though they remain popular on formal occasions.[472] The traditional shalwar kameez is rarely worn by younger urban women, who favour churidars or jeans.[472] In white-collar office settings, ubiquitous air conditioning allows men to wear sports jackets year-round.[472] For weddings and formal occasions, men in the middle- and upper classes often wear bandgala, or short Nehru jackets, with pants, with the groom and his groomsmen sporting sherwanis and churidars.[472] The dhoti, once the universal garment of Hindu males, the weariand handwoven khadi allowed Gandhi to bring Indian nationalism to the millions,[473] is seldom seen in the cities\n"
     ]
    }
   ],
   "source": [
    "print(TEXT)"
   ]
  },
  {
   "cell_type": "code",
   "execution_count": 54,
   "metadata": {},
   "outputs": [
    {
     "data": {
      "text/plain": [
       "'{\"1\": {\"mcq\": \"multiple choice question\", \"options\": {\"a\": \"choice here\", \"b\": \"choice here\", \"c\": \"choice here\", \"d\": \"choice here\"}, \"correct\": \"correct answer\"}, \"2\": {\"mcq\": \"multiple choice question\", \"options\": {\"a\": \"choice here\", \"b\": \"choice here\", \"c\": \"choice here\", \"d\": \"choice here\"}, \"correct\": \"correct answer\"}, \"3\": {\"mcq\": \"multiple choice question\", \"options\": {\"a\": \"choice here\", \"b\": \"choice here\", \"c\": \"choice here\", \"d\": \"choice here\"}, \"correct\": \"correct answer\"}}'"
      ]
     },
     "execution_count": 54,
     "metadata": {},
     "output_type": "execute_result"
    }
   ],
   "source": [
    "json.dumps(RESPONSE_JSON)"
   ]
  },
  {
   "cell_type": "code",
   "execution_count": 57,
   "metadata": {},
   "outputs": [],
   "source": [
    "NUMBER=5 \n",
    "SUBJECT=\"India\"\n",
    "TONE=\"simple\""
   ]
  },
  {
   "cell_type": "code",
   "execution_count": 58,
   "metadata": {},
   "outputs": [
    {
     "name": "stdout",
     "output_type": "stream",
     "text": [
      "\n",
      "\n",
      "\u001b[1m> Entering new SequentialChain chain...\u001b[0m\n",
      "\n",
      "\n",
      "\u001b[1m> Entering new LLMChain chain...\u001b[0m\n",
      "Prompt after formatting:\n",
      "\u001b[32;1m\u001b[1;3m\n",
      "Text:ndian music ranges over various traditions and regional styles. Classical music encompasses two genres and their various folk offshoots: the northern Hindustani and the southern Carnatic schools.[432] Regionalised popular forms include filmi and folk music; the syncretic tradition of the bauls is a well-known form of the latter. Indian dance also features diverse folk and classical forms. Among the better-known folk dances are: bhangra of Punjab, bihu of Assam, Jhumair and chhau of Jharkhand, Odisha and West Bengal, garba and dandiya of Gujarat, ghoomar of Rajasthan, and lavani of Maharashtra. Eight dance forms, many with narrative forms and mythological elements, have been accorded classical dance status by India's National Academy of Music, Dance, and Drama. These are: bharatanatyam of the state of Tamil Nadu, kathak of Uttar Pradesh, kathakali and mohiniyattam of Kerala, kuchipudi of Andhra Pradesh, manipuri of Manipur, odissi of Odisha, and the sattriya of Assam.[433]\n",
      "\n",
      "Theatre in India melds music, dance, and improvised or written dialogue.[434] Often based on Hindu mythology, but also borrowing from medieval romances or social and political events, Indian theatre includes: the bhavai of Gujarat, the jatra of West Bengal, the nautanki and ramlila of North India, tamasha of Maharashtra, burrakatha of Andhra Pradesh and Telangana, terukkuttu of Tamil Nadu, and the yakshagana of Karnataka.[435] India has a theatre training institute the National School of Drama (NSD) that is situated at New Delhi. It is an autonomous organisation under the Ministry of culture, Government of India.[436] The Indian film industry produces the world's most-watched cinema.[437] Established regional cinematic traditions exist in the Assamese, Bengali, Bhojpuri, Hindi, Kannada, Malayalam, Punjabi, Gujarati, Marathi, Odia, Tamil, and Telugu languages.[438] The Hindi language film industry (Bollywood) is the largest sector representing 43% of box office revenue, followed by the South Indian Telugu and Tamil film industries which represent 36% combined.[439]\n",
      "\n",
      "Television broadcasting began in India in 1959 as a state-run medium of communication and expanded slowly for more than two decades.[440][441] The state monopoly on television broadcast ended in the 1990s. Since then, satellite channels have increasingly shaped the popular culture of Indian society.[442] Today, television is the most penetrative media in India; industry estimates indicate that as of 2012 there are over 554 million TV consumers, 462 million with satellite or cable connections compared to other forms of mass media such as the press (350 million), radio (156 million) or internet (37 million).[443]\n",
      "\n",
      "Society\n",
      "\n",
      "Muslims offer namaz at a mosque in Srinagar, Jammu and Kashmir.\n",
      "Traditional Indian society is sometimes defined by social hierarchy. The Indian caste system embodies much of the social stratification and many of the social restrictions found on the Indian subcontinent. Social classes are defined by thousands of endogamous hereditary groups, often termed as jātis, or \"castes\".[444] India abolished untouchability in 1950 with the adoption of the constitution and has since enacted other anti-discriminatory laws and social welfare initiatives.\n",
      "\n",
      "Family values are important in the Indian tradition, and multi-generational patrilineal joint families have been the norm in India, though nuclear families are becoming common in urban areas.[445] An overwhelming majority of Indians, with their consent, have their marriages arranged by their parents or other family elders.[446] Marriage is thought to be for life,[446] and the divorce rate is extremely low,[447] with less than one in a thousand marriages ending in divorce.[448] Child marriages are common, especially in rural areas; many women wed before reaching 18, which is their legal marriageable age.[449] Female infanticide in India, and lately female foeticide, have created skewed gender ratios; the number of missing women in the country quadrupled from 15 million to 63 million in the 50-year period ending in 2014, faster than the population growth during the same period, and constituting 20 percent of India's female electorate.[450] According to an Indian government study, an additional 21 million girls are unwanted and do not receive adequate care.[451] Despite a government ban on sex-selective foeticide, the practice remains commonplace in India, the result of a preference for boys in a patriarchal society.[452] The payment of dowry, although illegal, remains widespread across class lines.[453] Deaths resulting from dowry, mostly from bride burning, are on the rise, despite stringent anti-dowry laws.[454]\n",
      "\n",
      "Many Indian festivals are religious in origin. The best known include Diwali, Ganesh Chaturthi, Thai Pongal, Holi, Durga Puja, Eid ul-Fitr, Bakr-Id, Christmas, and Vaisakhi.[455][456]\n",
      "\n",
      "Education\n",
      "Main articles: Education in India, Literacy in India, and History of education in the Indian subcontinent\n",
      "\n",
      "Children awaiting school lunch in Rayka (also Raika), a village in rural Gujarat. The salutation Jai Bhim written on the blackboard honours the jurist, social reformer, and Dalit leader B. R. Ambedkar.\n",
      "In the 2011 census, about 73% of the population was literate, with 81% for men and 65% for women. This compares to 1981 when the respective rates were 41%, 53% and 29%. In 1951 the rates were 18%, 27% and 9%. In 1921 the rates 7%, 12% and 2%. In 1891 they were 5%, 9% and 1%,[457][458] According to Latika Chaudhary, in 1911 there were under three primary schools for every ten villages. Statistically, more caste and religious diversity reduced private spending. Primary schools taught literacy, so local diversity limited its growth.[459]\n",
      "\n",
      "The education system of India is the world's second-largest.[460] India has over 900 universities, 40,000 colleges[461] and 1.5 million schools.[462] In India's higher education system, a significant number of seats are reserved under affirmative action policies for the historically disadvantaged. In recent decades India's improved education system is often cited as one of the main contributors to its economic development.[463][464]\n",
      "\n",
      "Clothing\n",
      "Main article: Clothing in India\n",
      "\n",
      "Women in sari at an adult literacy class in Tamil Nadu\n",
      "\n",
      "A man in dhoti and wearing a woollen shawl, in Varanasi\n",
      "From ancient times until the advent of the modern, the most widely worn traditional dress in India was draped.[465] For women it took the form of a sari, a single piece of cloth many yards long.[465] The sari was traditionally wrapped around the lower body and the shoulder.[465] In its modern form, it is combined with an underskirt, or Indian petticoat, and tucked in the waist band for more secure fastening. It is also commonly worn with an Indian blouse, or choli, which serves as the primary upper-body garment, the sari's end—passing over the shoulder—serving to cover the midriff and obscure the upper body's contours.[465] For men, a similar but shorter length of cloth, the dhoti, has served as a lower-body garment.[466]\n",
      "\n",
      "\n",
      "Women (from left to right) in churidars and kameez (with back to the camera), jeans and sweater, and pink shalwar kameez\n",
      "The use of stitched clothes became widespread after Muslim rule was established at first by the Delhi sultanate (c. 1300 CE) and then continued by the Mughal Empire (c. 1525 CE).[467] Among the garments introduced during this time and still commonly worn are: the shalwars and pyjamas, both styles of trousers, and the tunics kurta and kameez.[467] In southern India, the traditional draped garments were to see much longer continuous use.[467]\n",
      "\n",
      "Shalwars are atypically wide at the waist but narrow to a cuffed bottom. They are held up by a drawstring, which causes them to become pleated around the waist.[468] The pants can be wide and baggy, or they can be cut quite narrow, on the bias, in which case they are called churidars. When they are ordinarily wide at the waist and their bottoms are hemmed but not cuffed, they are called pyjamas. The kameez is a long shirt or tunic,[469] its side seams left open below the waist-line.[470] The kurta is traditionally collarless and made of cotton or silk; it is worn plain or with embroidered decoration, such as chikan; and typically falls to either just above or just below the wearer's knees.[471]\n",
      "\n",
      "In the last 50 years, fashions have changed a great deal in India. Increasingly, in urban northern India, the sari is no longer the apparel of everyday wear, though they remain popular on formal occasions.[472] The traditional shalwar kameez is rarely worn by younger urban women, who favour churidars or jeans.[472] In white-collar office settings, ubiquitous air conditioning allows men to wear sports jackets year-round.[472] For weddings and formal occasions, men in the middle- and upper classes often wear bandgala, or short Nehru jackets, with pants, with the groom and his groomsmen sporting sherwanis and churidars.[472] The dhoti, once the universal garment of Hindu males, the weariand handwoven khadi allowed Gandhi to bring Indian nationalism to the millions,[473] is seldom seen in the cities\n",
      "You are an expert MCQ maker. Given the above text, it is your job to create a quiz  of 5 multiple choice questions for India students in simple tone. \n",
      "Make sure the questions are not repeated and check all the questions to be conforming the text as well.\n",
      "Make sure to format your response like  RESPONSE_JSON below  and use it as a guide. Ensure to make 5 MCQs\n",
      "### RESPONSE_JSON\n",
      "{\"1\": {\"mcq\": \"multiple choice question\", \"options\": {\"a\": \"choice here\", \"b\": \"choice here\", \"c\": \"choice here\", \"d\": \"choice here\"}, \"correct\": \"correct answer\"}, \"2\": {\"mcq\": \"multiple choice question\", \"options\": {\"a\": \"choice here\", \"b\": \"choice here\", \"c\": \"choice here\", \"d\": \"choice here\"}, \"correct\": \"correct answer\"}, \"3\": {\"mcq\": \"multiple choice question\", \"options\": {\"a\": \"choice here\", \"b\": \"choice here\", \"c\": \"choice here\", \"d\": \"choice here\"}, \"correct\": \"correct answer\"}}\n",
      "\n",
      "\u001b[0m\n",
      "\n",
      "\u001b[1m> Finished chain.\u001b[0m\n",
      "\n",
      "\n",
      "\u001b[1m> Entering new LLMChain chain...\u001b[0m\n",
      "Prompt after formatting:\n",
      "\u001b[32;1m\u001b[1;3m\n",
      "Text:ndian music ranges over various traditions and regional styles. Classical music encompasses two genres and their various folk offshoots: the northern Hindustani and the southern Carnatic schools.[432] Regionalised popular forms include filmi and folk music; the syncretic tradition of the bauls is a well-known form of the latter. Indian dance also features diverse folk and classical forms. Among the better-known folk dances are: bhangra of Punjab, bihu of Assam, Jhumair and chhau of Jharkhand, Odisha and West Bengal, garba and dandiya of Gujarat, ghoomar of Rajasthan, and lavani of Maharashtra. Eight dance forms, many with narrative forms and mythological elements, have been accorded classical dance status by India's National Academy of Music, Dance, and Drama. These are: bharatanatyam of the state of Tamil Nadu, kathak of Uttar Pradesh, kathakali and mohiniyattam of Kerala, kuchipudi of Andhra Pradesh, manipuri of Manipur, odissi of Odisha, and the sattriya of Assam.[433]\n",
      "\n",
      "Theatre in India melds music, dance, and improvised or written dialogue.[434] Often based on Hindu mythology, but also borrowing from medieval romances or social and political events, Indian theatre includes: the bhavai of Gujarat, the jatra of West Bengal, the nautanki and ramlila of North India, tamasha of Maharashtra, burrakatha of Andhra Pradesh and Telangana, terukkuttu of Tamil Nadu, and the yakshagana of Karnataka.[435] India has a theatre training institute the National School of Drama (NSD) that is situated at New Delhi. It is an autonomous organisation under the Ministry of culture, Government of India.[436] The Indian film industry produces the world's most-watched cinema.[437] Established regional cinematic traditions exist in the Assamese, Bengali, Bhojpuri, Hindi, Kannada, Malayalam, Punjabi, Gujarati, Marathi, Odia, Tamil, and Telugu languages.[438] The Hindi language film industry (Bollywood) is the largest sector representing 43% of box office revenue, followed by the South Indian Telugu and Tamil film industries which represent 36% combined.[439]\n",
      "\n",
      "Television broadcasting began in India in 1959 as a state-run medium of communication and expanded slowly for more than two decades.[440][441] The state monopoly on television broadcast ended in the 1990s. Since then, satellite channels have increasingly shaped the popular culture of Indian society.[442] Today, television is the most penetrative media in India; industry estimates indicate that as of 2012 there are over 554 million TV consumers, 462 million with satellite or cable connections compared to other forms of mass media such as the press (350 million), radio (156 million) or internet (37 million).[443]\n",
      "\n",
      "Society\n",
      "\n",
      "Muslims offer namaz at a mosque in Srinagar, Jammu and Kashmir.\n",
      "Traditional Indian society is sometimes defined by social hierarchy. The Indian caste system embodies much of the social stratification and many of the social restrictions found on the Indian subcontinent. Social classes are defined by thousands of endogamous hereditary groups, often termed as jātis, or \"castes\".[444] India abolished untouchability in 1950 with the adoption of the constitution and has since enacted other anti-discriminatory laws and social welfare initiatives.\n",
      "\n",
      "Family values are important in the Indian tradition, and multi-generational patrilineal joint families have been the norm in India, though nuclear families are becoming common in urban areas.[445] An overwhelming majority of Indians, with their consent, have their marriages arranged by their parents or other family elders.[446] Marriage is thought to be for life,[446] and the divorce rate is extremely low,[447] with less than one in a thousand marriages ending in divorce.[448] Child marriages are common, especially in rural areas; many women wed before reaching 18, which is their legal marriageable age.[449] Female infanticide in India, and lately female foeticide, have created skewed gender ratios; the number of missing women in the country quadrupled from 15 million to 63 million in the 50-year period ending in 2014, faster than the population growth during the same period, and constituting 20 percent of India's female electorate.[450] According to an Indian government study, an additional 21 million girls are unwanted and do not receive adequate care.[451] Despite a government ban on sex-selective foeticide, the practice remains commonplace in India, the result of a preference for boys in a patriarchal society.[452] The payment of dowry, although illegal, remains widespread across class lines.[453] Deaths resulting from dowry, mostly from bride burning, are on the rise, despite stringent anti-dowry laws.[454]\n",
      "\n",
      "Many Indian festivals are religious in origin. The best known include Diwali, Ganesh Chaturthi, Thai Pongal, Holi, Durga Puja, Eid ul-Fitr, Bakr-Id, Christmas, and Vaisakhi.[455][456]\n",
      "\n",
      "Education\n",
      "Main articles: Education in India, Literacy in India, and History of education in the Indian subcontinent\n",
      "\n",
      "Children awaiting school lunch in Rayka (also Raika), a village in rural Gujarat. The salutation Jai Bhim written on the blackboard honours the jurist, social reformer, and Dalit leader B. R. Ambedkar.\n",
      "In the 2011 census, about 73% of the population was literate, with 81% for men and 65% for women. This compares to 1981 when the respective rates were 41%, 53% and 29%. In 1951 the rates were 18%, 27% and 9%. In 1921 the rates 7%, 12% and 2%. In 1891 they were 5%, 9% and 1%,[457][458] According to Latika Chaudhary, in 1911 there were under three primary schools for every ten villages. Statistically, more caste and religious diversity reduced private spending. Primary schools taught literacy, so local diversity limited its growth.[459]\n",
      "\n",
      "The education system of India is the world's second-largest.[460] India has over 900 universities, 40,000 colleges[461] and 1.5 million schools.[462] In India's higher education system, a significant number of seats are reserved under affirmative action policies for the historically disadvantaged. In recent decades India's improved education system is often cited as one of the main contributors to its economic development.[463][464]\n",
      "\n",
      "Clothing\n",
      "Main article: Clothing in India\n",
      "\n",
      "Women in sari at an adult literacy class in Tamil Nadu\n",
      "\n",
      "A man in dhoti and wearing a woollen shawl, in Varanasi\n",
      "From ancient times until the advent of the modern, the most widely worn traditional dress in India was draped.[465] For women it took the form of a sari, a single piece of cloth many yards long.[465] The sari was traditionally wrapped around the lower body and the shoulder.[465] In its modern form, it is combined with an underskirt, or Indian petticoat, and tucked in the waist band for more secure fastening. It is also commonly worn with an Indian blouse, or choli, which serves as the primary upper-body garment, the sari's end—passing over the shoulder—serving to cover the midriff and obscure the upper body's contours.[465] For men, a similar but shorter length of cloth, the dhoti, has served as a lower-body garment.[466]\n",
      "\n",
      "\n",
      "Women (from left to right) in churidars and kameez (with back to the camera), jeans and sweater, and pink shalwar kameez\n",
      "The use of stitched clothes became widespread after Muslim rule was established at first by the Delhi sultanate (c. 1300 CE) and then continued by the Mughal Empire (c. 1525 CE).[467] Among the garments introduced during this time and still commonly worn are: the shalwars and pyjamas, both styles of trousers, and the tunics kurta and kameez.[467] In southern India, the traditional draped garments were to see much longer continuous use.[467]\n",
      "\n",
      "Shalwars are atypically wide at the waist but narrow to a cuffed bottom. They are held up by a drawstring, which causes them to become pleated around the waist.[468] The pants can be wide and baggy, or they can be cut quite narrow, on the bias, in which case they are called churidars. When they are ordinarily wide at the waist and their bottoms are hemmed but not cuffed, they are called pyjamas. The kameez is a long shirt or tunic,[469] its side seams left open below the waist-line.[470] The kurta is traditionally collarless and made of cotton or silk; it is worn plain or with embroidered decoration, such as chikan; and typically falls to either just above or just below the wearer's knees.[471]\n",
      "\n",
      "In the last 50 years, fashions have changed a great deal in India. Increasingly, in urban northern India, the sari is no longer the apparel of everyday wear, though they remain popular on formal occasions.[472] The traditional shalwar kameez is rarely worn by younger urban women, who favour churidars or jeans.[472] In white-collar office settings, ubiquitous air conditioning allows men to wear sports jackets year-round.[472] For weddings and formal occasions, men in the middle- and upper classes often wear bandgala, or short Nehru jackets, with pants, with the groom and his groomsmen sporting sherwanis and churidars.[472] The dhoti, once the universal garment of Hindu males, the weariand handwoven khadi allowed Gandhi to bring Indian nationalism to the millions,[473] is seldom seen in the cities\n",
      "You are an expert MCQ maker. Given the above text, it is your job to create a quiz  of 5 multiple choice questions for India students in simple tone. \n",
      "Make sure the questions are not repeated and check all the questions to be conforming the text as well.\n",
      "Make sure to format your response like  RESPONSE_JSON below  and use it as a guide. Ensure to make 5 MCQs\n",
      "### RESPONSE_JSON\n",
      "{\"1\": {\"mcq\": \"multiple choice question\", \"options\": {\"a\": \"choice here\", \"b\": \"choice here\", \"c\": \"choice here\", \"d\": \"choice here\"}, \"correct\": \"correct answer\"}, \"2\": {\"mcq\": \"multiple choice question\", \"options\": {\"a\": \"choice here\", \"b\": \"choice here\", \"c\": \"choice here\", \"d\": \"choice here\"}, \"correct\": \"correct answer\"}, \"3\": {\"mcq\": \"multiple choice question\", \"options\": {\"a\": \"choice here\", \"b\": \"choice here\", \"c\": \"choice here\", \"d\": \"choice here\"}, \"correct\": \"correct answer\"}}\n",
      "\n",
      "\u001b[0m\n",
      "\n",
      "\u001b[1m> Finished chain.\u001b[0m\n",
      "\n",
      "\u001b[1m> Finished chain.\u001b[0m\n"
     ]
    }
   ],
   "source": [
    "with get_openai_callback() as cb:\n",
    "    response=generate_evaluate_chain(\n",
    "        {\n",
    "            \"text\": TEXT,\n",
    "            \"number\": NUMBER,\n",
    "            \"subject\":SUBJECT,\n",
    "            \"tone\": TONE,\n",
    "            \"response_json\": json.dumps(RESPONSE_JSON)\n",
    "        }\n",
    "        )"
   ]
  },
  {
   "cell_type": "code",
   "execution_count": 59,
   "metadata": {},
   "outputs": [
    {
     "name": "stdout",
     "output_type": "stream",
     "text": [
      "Total Tokens:5430\n",
      "Prompt Tokens:4754\n",
      "Completion Tokens:676\n",
      "Total Cost:0.008483\n"
     ]
    }
   ],
   "source": [
    "print(f\"Total Tokens:{cb.total_tokens}\")\n",
    "print(f\"Prompt Tokens:{cb.prompt_tokens}\")\n",
    "print(f\"Completion Tokens:{cb.completion_tokens}\")\n",
    "print(f\"Total Cost:{cb.total_cost}\")"
   ]
  },
  {
   "cell_type": "code",
   "execution_count": 60,
   "metadata": {},
   "outputs": [
    {
     "data": {
      "text/plain": [
       "{'text': 'ndian music ranges over various traditions and regional styles. Classical music encompasses two genres and their various folk offshoots: the northern Hindustani and the southern Carnatic schools.[432] Regionalised popular forms include filmi and folk music; the syncretic tradition of the bauls is a well-known form of the latter. Indian dance also features diverse folk and classical forms. Among the better-known folk dances are: bhangra of Punjab, bihu of Assam, Jhumair and chhau of Jharkhand, Odisha and West Bengal, garba and dandiya of Gujarat, ghoomar of Rajasthan, and lavani of Maharashtra. Eight dance forms, many with narrative forms and mythological elements, have been accorded classical dance status by India\\'s National Academy of Music, Dance, and Drama. These are: bharatanatyam of the state of Tamil Nadu, kathak of Uttar Pradesh, kathakali and mohiniyattam of Kerala, kuchipudi of Andhra Pradesh, manipuri of Manipur, odissi of Odisha, and the sattriya of Assam.[433]\\n\\nTheatre in India melds music, dance, and improvised or written dialogue.[434] Often based on Hindu mythology, but also borrowing from medieval romances or social and political events, Indian theatre includes: the bhavai of Gujarat, the jatra of West Bengal, the nautanki and ramlila of North India, tamasha of Maharashtra, burrakatha of Andhra Pradesh and Telangana, terukkuttu of Tamil Nadu, and the yakshagana of Karnataka.[435] India has a theatre training institute the National School of Drama (NSD) that is situated at New Delhi. It is an autonomous organisation under the Ministry of culture, Government of India.[436] The Indian film industry produces the world\\'s most-watched cinema.[437] Established regional cinematic traditions exist in the Assamese, Bengali, Bhojpuri, Hindi, Kannada, Malayalam, Punjabi, Gujarati, Marathi, Odia, Tamil, and Telugu languages.[438] The Hindi language film industry (Bollywood) is the largest sector representing 43% of box office revenue, followed by the South Indian Telugu and Tamil film industries which represent 36% combined.[439]\\n\\nTelevision broadcasting began in India in 1959 as a state-run medium of communication and expanded slowly for more than two decades.[440][441] The state monopoly on television broadcast ended in the 1990s. Since then, satellite channels have increasingly shaped the popular culture of Indian society.[442] Today, television is the most penetrative media in India; industry estimates indicate that as of 2012 there are over 554 million TV consumers, 462 million with satellite or cable connections compared to other forms of mass media such as the press (350 million), radio (156 million) or internet (37 million).[443]\\n\\nSociety\\n\\nMuslims offer namaz at a mosque in Srinagar, Jammu and Kashmir.\\nTraditional Indian society is sometimes defined by social hierarchy. The Indian caste system embodies much of the social stratification and many of the social restrictions found on the Indian subcontinent. Social classes are defined by thousands of endogamous hereditary groups, often termed as jātis, or \"castes\".[444] India abolished untouchability in 1950 with the adoption of the constitution and has since enacted other anti-discriminatory laws and social welfare initiatives.\\n\\nFamily values are important in the Indian tradition, and multi-generational patrilineal joint families have been the norm in India, though nuclear families are becoming common in urban areas.[445] An overwhelming majority of Indians, with their consent, have their marriages arranged by their parents or other family elders.[446] Marriage is thought to be for life,[446] and the divorce rate is extremely low,[447] with less than one in a thousand marriages ending in divorce.[448] Child marriages are common, especially in rural areas; many women wed before reaching 18, which is their legal marriageable age.[449] Female infanticide in India, and lately female foeticide, have created skewed gender ratios; the number of missing women in the country quadrupled from 15 million to 63 million in the 50-year period ending in 2014, faster than the population growth during the same period, and constituting 20 percent of India\\'s female electorate.[450] According to an Indian government study, an additional 21 million girls are unwanted and do not receive adequate care.[451] Despite a government ban on sex-selective foeticide, the practice remains commonplace in India, the result of a preference for boys in a patriarchal society.[452] The payment of dowry, although illegal, remains widespread across class lines.[453] Deaths resulting from dowry, mostly from bride burning, are on the rise, despite stringent anti-dowry laws.[454]\\n\\nMany Indian festivals are religious in origin. The best known include Diwali, Ganesh Chaturthi, Thai Pongal, Holi, Durga Puja, Eid ul-Fitr, Bakr-Id, Christmas, and Vaisakhi.[455][456]\\n\\nEducation\\nMain articles: Education in India, Literacy in India, and History of education in the Indian subcontinent\\n\\nChildren awaiting school lunch in Rayka (also Raika), a village in rural Gujarat. The salutation Jai Bhim written on the blackboard honours the jurist, social reformer, and Dalit leader B. R. Ambedkar.\\nIn the 2011 census, about 73% of the population was literate, with 81% for men and 65% for women. This compares to 1981 when the respective rates were 41%, 53% and 29%. In 1951 the rates were 18%, 27% and 9%. In 1921 the rates 7%, 12% and 2%. In 1891 they were 5%, 9% and 1%,[457][458] According to Latika Chaudhary, in 1911 there were under three primary schools for every ten villages. Statistically, more caste and religious diversity reduced private spending. Primary schools taught literacy, so local diversity limited its growth.[459]\\n\\nThe education system of India is the world\\'s second-largest.[460] India has over 900 universities, 40,000 colleges[461] and 1.5 million schools.[462] In India\\'s higher education system, a significant number of seats are reserved under affirmative action policies for the historically disadvantaged. In recent decades India\\'s improved education system is often cited as one of the main contributors to its economic development.[463][464]\\n\\nClothing\\nMain article: Clothing in India\\n\\nWomen in sari at an adult literacy class in Tamil Nadu\\n\\nA man in dhoti and wearing a woollen shawl, in Varanasi\\nFrom ancient times until the advent of the modern, the most widely worn traditional dress in India was draped.[465] For women it took the form of a sari, a single piece of cloth many yards long.[465] The sari was traditionally wrapped around the lower body and the shoulder.[465] In its modern form, it is combined with an underskirt, or Indian petticoat, and tucked in the waist band for more secure fastening. It is also commonly worn with an Indian blouse, or choli, which serves as the primary upper-body garment, the sari\\'s end—passing over the shoulder—serving to cover the midriff and obscure the upper body\\'s contours.[465] For men, a similar but shorter length of cloth, the dhoti, has served as a lower-body garment.[466]\\n\\n\\nWomen (from left to right) in churidars and kameez (with back to the camera), jeans and sweater, and pink shalwar kameez\\nThe use of stitched clothes became widespread after Muslim rule was established at first by the Delhi sultanate (c.\\u20091300 CE) and then continued by the Mughal Empire (c.\\u20091525 CE).[467] Among the garments introduced during this time and still commonly worn are: the shalwars and pyjamas, both styles of trousers, and the tunics kurta and kameez.[467] In southern India, the traditional draped garments were to see much longer continuous use.[467]\\n\\nShalwars are atypically wide at the waist but narrow to a cuffed bottom. They are held up by a drawstring, which causes them to become pleated around the waist.[468] The pants can be wide and baggy, or they can be cut quite narrow, on the bias, in which case they are called churidars. When they are ordinarily wide at the waist and their bottoms are hemmed but not cuffed, they are called pyjamas. The kameez is a long shirt or tunic,[469] its side seams left open below the waist-line.[470] The kurta is traditionally collarless and made of cotton or silk; it is worn plain or with embroidered decoration, such as chikan; and typically falls to either just above or just below the wearer\\'s knees.[471]\\n\\nIn the last 50 years, fashions have changed a great deal in India. Increasingly, in urban northern India, the sari is no longer the apparel of everyday wear, though they remain popular on formal occasions.[472] The traditional shalwar kameez is rarely worn by younger urban women, who favour churidars or jeans.[472] In white-collar office settings, ubiquitous air conditioning allows men to wear sports jackets year-round.[472] For weddings and formal occasions, men in the middle- and upper classes often wear bandgala, or short Nehru jackets, with pants, with the groom and his groomsmen sporting sherwanis and churidars.[472] The dhoti, once the universal garment of Hindu males, the weariand handwoven khadi allowed Gandhi to bring Indian nationalism to the millions,[473] is seldom seen in the cities',\n",
       " 'number': 5,\n",
       " 'subject': 'India',\n",
       " 'tone': 'simple',\n",
       " 'response_json': '{\"1\": {\"mcq\": \"multiple choice question\", \"options\": {\"a\": \"choice here\", \"b\": \"choice here\", \"c\": \"choice here\", \"d\": \"choice here\"}, \"correct\": \"correct answer\"}, \"2\": {\"mcq\": \"multiple choice question\", \"options\": {\"a\": \"choice here\", \"b\": \"choice here\", \"c\": \"choice here\", \"d\": \"choice here\"}, \"correct\": \"correct answer\"}, \"3\": {\"mcq\": \"multiple choice question\", \"options\": {\"a\": \"choice here\", \"b\": \"choice here\", \"c\": \"choice here\", \"d\": \"choice here\"}, \"correct\": \"correct answer\"}}',\n",
       " 'quiz': '{\\n\"1\": {\\n\"mcq\": \"What is the traditional dress worn by women in India?\",\\n\"options\": {\\n\"a\": \"Jeans and sweater\",\\n\"b\": \"Churidars and kameez\",\\n\"c\": \"Bandgala and Nehru jackets\",\\n\"d\": \"Dhoti and woollen shawl\"\\n},\\n\"correct\": \"b\"\\n},\\n\"2\": {\\n\"mcq\": \"Which dance form has been accorded classical dance status by India\\'s National Academy of Music, Dance, and Drama?\",\\n\"options\": {\\n\"a\": \"Bhangra\",\\n\"b\": \"Garba\",\\n\"c\": \"Bharatanatyam\",\\n\"d\": \"Ghoomar\"\\n},\\n\"correct\": \"c\"\\n},\\n\"3\": {\\n\"mcq\": \"What is the largest sector of the Indian film industry in terms of box office revenue?\",\\n\"options\": {\\n\"a\": \"Bengali film industry\",\\n\"b\": \"Telugu film industry\",\\n\"c\": \"Hindi film industry (Bollywood)\",\\n\"d\": \"Tamil film industry\"\\n},\\n\"correct\": \"c\"\\n},\\n\"4\": {\\n\"mcq\": \"Which garment is traditionally worn by men in India?\",\\n\"options\": {\\n\"a\": \"Sari\",\\n\"b\": \"Kurta\",\\n\"c\": \"Choli\",\\n\"d\": \"Pyjamas\"\\n},\\n\"correct\": \"b\"\\n},\\n\"5\": {\\n\"mcq\": \"What is the literacy rate of the Indian population according to the 2011 census?\",\\n\"options\": {\\n\"a\": \"41%\",\\n\"b\": \"73%\",\\n\"c\": \"18%\",\\n\"d\": \"5%\"\\n},\\n\"correct\": \"b\"\\n}\\n}',\n",
       " 'review': '\\n{\\n\"1\": {\\n\"mcq\": \"What are the two main genres of classical music in India?\",\\n\"options\": {\\n\"a\": \"Hindustani and Carnatic\",\\n\"b\": \"Bhangra and Bihu\",\\n\"c\": \"Garba and Dandiya\",\\n\"d\": \"Ghoomar and Lavani\"\\n},\\n\"correct\": \"a\"\\n},\\n\"2\": {\\n\"mcq\": \"Which dance form is from the state of Tamil Nadu and has classical dance status?\",\\n\"options\": {\\n\"a\": \"Bhangra\",\\n\"b\": \"Kathak\",\\n\"c\": \"Bharatanatyam\",\\n\"d\": \"Kuchipudi\"\\n},\\n\"correct\": \"c\"\\n},\\n\"3\": {\\n\"mcq\": \"Which Indian film industry sector represents 43% of box office revenue?\",\\n\"options\": {\\n\"a\": \"Assamese\",\\n\"b\": \"Bengali\",\\n\"c\": \"Hindi\",\\n\"d\": \"Kannada\"\\n},\\n\"correct\": \"c\"\\n},\\n\"4\": {\\n\"mcq\": \"What is the literacy rate in India according to the 2011 census?\",\\n\"options\": {\\n\"a\": \"41%\",\\n\"b\": \"73%\",\\n\"c\": \"18%\",\\n\"d\": \"7%\"\\n},\\n\"correct\": \"b\"\\n},\\n\"5\": {\\n\"mcq\": \"Which traditional Indian dress is a single piece of cloth many yards long?\",\\n\"options\": {\\n\"a\": \"Dhoti\",\\n\"b\": \"Kurta\",\\n\"c\": \"Sari\",\\n\"d\": \"Shalwar\"\\n},\\n\"correct\": \"c\"\\n}\\n}'}"
      ]
     },
     "execution_count": 60,
     "metadata": {},
     "output_type": "execute_result"
    }
   ],
   "source": [
    "response"
   ]
  },
  {
   "cell_type": "code",
   "execution_count": 62,
   "metadata": {},
   "outputs": [],
   "source": [
    "quiz=response.get(\"quiz\")"
   ]
  },
  {
   "cell_type": "code",
   "execution_count": 64,
   "metadata": {},
   "outputs": [
    {
     "data": {
      "text/plain": [
       "{'1': {'mcq': 'What is the traditional dress worn by women in India?',\n",
       "  'options': {'a': 'Jeans and sweater',\n",
       "   'b': 'Churidars and kameez',\n",
       "   'c': 'Bandgala and Nehru jackets',\n",
       "   'd': 'Dhoti and woollen shawl'},\n",
       "  'correct': 'b'},\n",
       " '2': {'mcq': \"Which dance form has been accorded classical dance status by India's National Academy of Music, Dance, and Drama?\",\n",
       "  'options': {'a': 'Bhangra',\n",
       "   'b': 'Garba',\n",
       "   'c': 'Bharatanatyam',\n",
       "   'd': 'Ghoomar'},\n",
       "  'correct': 'c'},\n",
       " '3': {'mcq': 'What is the largest sector of the Indian film industry in terms of box office revenue?',\n",
       "  'options': {'a': 'Bengali film industry',\n",
       "   'b': 'Telugu film industry',\n",
       "   'c': 'Hindi film industry (Bollywood)',\n",
       "   'd': 'Tamil film industry'},\n",
       "  'correct': 'c'},\n",
       " '4': {'mcq': 'Which garment is traditionally worn by men in India?',\n",
       "  'options': {'a': 'Sari', 'b': 'Kurta', 'c': 'Choli', 'd': 'Pyjamas'},\n",
       "  'correct': 'b'},\n",
       " '5': {'mcq': 'What is the literacy rate of the Indian population according to the 2011 census?',\n",
       "  'options': {'a': '41%', 'b': '73%', 'c': '18%', 'd': '5%'},\n",
       "  'correct': 'b'}}"
      ]
     },
     "execution_count": 64,
     "metadata": {},
     "output_type": "execute_result"
    }
   ],
   "source": [
    "json.loads(quiz)"
   ]
  },
  {
   "cell_type": "code",
   "execution_count": null,
   "metadata": {},
   "outputs": [],
   "source": []
  },
  {
   "cell_type": "code",
   "execution_count": null,
   "metadata": {},
   "outputs": [],
   "source": []
  },
  {
   "cell_type": "code",
   "execution_count": null,
   "metadata": {},
   "outputs": [],
   "source": []
  },
  {
   "cell_type": "code",
   "execution_count": null,
   "metadata": {},
   "outputs": [],
   "source": []
  },
  {
   "cell_type": "code",
   "execution_count": null,
   "metadata": {},
   "outputs": [],
   "source": []
  },
  {
   "cell_type": "code",
   "execution_count": null,
   "metadata": {},
   "outputs": [],
   "source": []
  },
  {
   "cell_type": "code",
   "execution_count": null,
   "metadata": {},
   "outputs": [],
   "source": []
  },
  {
   "cell_type": "code",
   "execution_count": null,
   "metadata": {},
   "outputs": [],
   "source": []
  },
  {
   "cell_type": "code",
   "execution_count": null,
   "metadata": {},
   "outputs": [],
   "source": []
  },
  {
   "cell_type": "code",
   "execution_count": null,
   "metadata": {},
   "outputs": [],
   "source": []
  },
  {
   "cell_type": "code",
   "execution_count": null,
   "metadata": {},
   "outputs": [],
   "source": []
  },
  {
   "cell_type": "code",
   "execution_count": null,
   "metadata": {},
   "outputs": [],
   "source": []
  },
  {
   "cell_type": "code",
   "execution_count": null,
   "metadata": {},
   "outputs": [],
   "source": []
  },
  {
   "cell_type": "code",
   "execution_count": null,
   "metadata": {},
   "outputs": [],
   "source": []
  },
  {
   "cell_type": "code",
   "execution_count": null,
   "metadata": {},
   "outputs": [],
   "source": []
  },
  {
   "cell_type": "code",
   "execution_count": null,
   "metadata": {},
   "outputs": [],
   "source": []
  }
 ],
 "metadata": {
  "kernelspec": {
   "display_name": "Python 3",
   "language": "python",
   "name": "python3"
  },
  "language_info": {
   "codemirror_mode": {
    "name": "ipython",
    "version": 3
   },
   "file_extension": ".py",
   "mimetype": "text/x-python",
   "name": "python",
   "nbconvert_exporter": "python",
   "pygments_lexer": "ipython3",
   "version": "3.11.5"
  }
 },
 "nbformat": 4,
 "nbformat_minor": 2
}
